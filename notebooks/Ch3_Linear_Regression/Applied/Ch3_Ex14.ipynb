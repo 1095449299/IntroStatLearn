{
 "cells": [
  {
   "cell_type": "markdown",
   "metadata": {},
   "source": [
    "# ISLR- Python: Ch3 -- Applied Question 14"
   ]
  },
  {
   "cell_type": "markdown",
   "metadata": {},
   "source": [
    "- [Generate Data](#Generate-Data)\n",
    "- [Measure Variable Correlations](#Measure-Variable_Correlations)\n",
    "- [Fit Least Squares Regression](#Fit-Least-Squares-Regression)\n",
    "- [Fit Least Squares Regression for One Variable](#Fit-Least-Squares-Regression-for-One-Variable)\n",
    "- [Fit Least Squares Regression with Possible High Leverage or Outlier](#Fit-Least-Squares-Regression-with-Possible-High-Leverage-or-Outlier)"
   ]
  },
  {
   "cell_type": "code",
   "execution_count": 5,
   "metadata": {
    "collapsed": false
   },
   "outputs": [],
   "source": [
    "# perform standard imports\n",
    "import statsmodels.api as sm\n",
    "import numpy as np\n",
    "import pandas as pd\n",
    "\n",
    "from matplotlib import pyplot as plt\n",
    "from pandas.tools.plotting import scatter_matrix \n",
    "from mpl_toolkits.mplot3d import Axes3D\n",
    "\n",
    "%matplotlib inline\n",
    "plt.style.use('ggplot') # emulate pretty r-style plots"
   ]
  },
  {
   "cell_type": "markdown",
   "metadata": {},
   "source": [
    "## Generate Data"
   ]
  },
  {
   "cell_type": "markdown",
   "metadata": {},
   "source": [
    "#### Make a model of the form $y = 2 + 2 x_1 + 0.3 x_2 + \\epsilon$ where $x_1 \\sim Uni(0,1)$ and $x_2 = 0.5 x_1 + \\frac{\\epsilon}{10}$ where $\\epsilon \\sim N(0,1)$. Here $\\left[\\beta_1, \\beta_2, \\beta_3\\right] = \\left[2, 2, 0.3\\right]$."
   ]
  },
  {
   "cell_type": "code",
   "execution_count": 21,
   "metadata": {
    "collapsed": false
   },
   "outputs": [],
   "source": [
    "# Create the poplulation regression\n",
    "np.random.seed(0)\n",
    "x1 = np.random.random(100)\n",
    "x2 = 0.5 * x1 + np.random.randn(100)/10\n",
    "y = (2 + 2*x1 + 0.3*x2 + np.random.randn(100))"
   ]
  },
  {
   "cell_type": "markdown",
   "metadata": {},
   "source": [
    "## Measure Variable Correlations"
   ]
  },
  {
   "cell_type": "code",
   "execution_count": 26,
   "metadata": {
    "collapsed": false
   },
   "outputs": [
    {
     "name": "stdout",
     "output_type": "stream",
     "text": [
      "The correlation between x1 and x2 is 0.819263355822\n"
     ]
    },
    {
     "data": {
      "text/html": [
       "<div>\n",
       "<table border=\"1\" class=\"dataframe\">\n",
       "  <thead>\n",
       "    <tr style=\"text-align: right;\">\n",
       "      <th></th>\n",
       "      <th>y</th>\n",
       "      <th>x1</th>\n",
       "      <th>x2</th>\n",
       "    </tr>\n",
       "  </thead>\n",
       "  <tbody>\n",
       "    <tr>\n",
       "      <th>0</th>\n",
       "      <td>2.791001</td>\n",
       "      <td>0.548814</td>\n",
       "      <td>0.157892</td>\n",
       "    </tr>\n",
       "    <tr>\n",
       "      <th>1</th>\n",
       "      <td>2.189731</td>\n",
       "      <td>0.715189</td>\n",
       "      <td>0.447677</td>\n",
       "    </tr>\n",
       "    <tr>\n",
       "      <th>2</th>\n",
       "      <td>2.666293</td>\n",
       "      <td>0.602763</td>\n",
       "      <td>0.347948</td>\n",
       "    </tr>\n",
       "    <tr>\n",
       "      <th>3</th>\n",
       "      <td>0.902008</td>\n",
       "      <td>0.544883</td>\n",
       "      <td>0.118817</td>\n",
       "    </tr>\n",
       "    <tr>\n",
       "      <th>4</th>\n",
       "      <td>3.580737</td>\n",
       "      <td>0.423655</td>\n",
       "      <td>0.360653</td>\n",
       "    </tr>\n",
       "  </tbody>\n",
       "</table>\n",
       "</div>"
      ],
      "text/plain": [
       "          y        x1        x2\n",
       "0  2.791001  0.548814  0.157892\n",
       "1  2.189731  0.715189  0.447677\n",
       "2  2.666293  0.602763  0.347948\n",
       "3  0.902008  0.544883  0.118817\n",
       "4  3.580737  0.423655  0.360653"
      ]
     },
     "execution_count": 26,
     "metadata": {},
     "output_type": "execute_result"
    }
   ],
   "source": [
    "# The correlation between x1 and x2\n",
    "correlation = np.corrcoef(x1,x2)\n",
    "print('The correlation between x1 and x2 is', correlation[0,1])\n",
    "\n",
    "df = pd.DataFrame(np.column_stack((y,x1,x2)), columns=['y','x1','x2'] )\n",
    "df.head()"
   ]
  },
  {
   "cell_type": "code",
   "execution_count": 34,
   "metadata": {
    "collapsed": false
   },
   "outputs": [
    {
     "data": {
      "image/png": "[encoded data removed]",
      "text/plain": [
       "<matplotlib.figure.Figure at 0x7fdf7507d828>"
      ]
     },
     "metadata": {},
     "output_type": "display_data"
    }
   ],
   "source": [
    "scatter_matrix(df, figsize = (8,8),alpha=1);"
   ]
  },
  {
   "cell_type": "markdown",
   "metadata": {},
   "source": [
    "## Fit Least Squares Regression"
   ]
  },
  {
   "cell_type": "code",
   "execution_count": 41,
   "metadata": {
    "collapsed": false
   },
   "outputs": [
    {
     "name": "stdout",
     "output_type": "stream",
     "text": [
      "                            OLS Regression Results                            \n",
      "==============================================================================\n",
      "Dep. Variable:                      y   R-squared:                       0.261\n",
      "Model:                            OLS   Adj. R-squared:                  0.246\n",
      "Method:                 Least Squares   F-statistic:                     17.16\n",
      "Date:                Tue, 28 Jun 2016   Prob (F-statistic):           4.16e-07\n",
      "Time:                        16:08:52   Log-Likelihood:                -139.04\n",
      "No. Observations:                 100   AIC:                             284.1\n",
      "Df Residuals:                      97   BIC:                             291.9\n",
      "Df Model:                           2                                         \n",
      "Covariance Type:            nonrobust                                         \n",
      "==============================================================================\n",
      "                 coef    std err          t      P>|t|      [95.0% Conf. Int.]\n",
      "------------------------------------------------------------------------------\n",
      "const          1.9217      0.191     10.071      0.000         1.543     2.300\n",
      "x1             1.2007      0.597      2.011      0.047         0.016     2.385\n",
      "x2             1.4931      0.991      1.507      0.135        -0.473     3.459\n",
      "==============================================================================\n",
      "Omnibus:                        0.196   Durbin-Watson:                   2.109\n",
      "Prob(Omnibus):                  0.907   Jarque-Bera (JB):                0.026\n",
      "Skew:                           0.032   Prob(JB):                        0.987\n",
      "Kurtosis:                       3.046   Cond. No.                         13.0\n",
      "==============================================================================\n",
      "\n",
      "Warnings:\n",
      "[1] Standard Errors assume that the covariance matrix of the errors is correctly specified.\n",
      "\n",
      "\n",
      "[beta_0, beta_1, beta_2] are  [ 1.92166453  1.20067956  1.49313017]\n"
     ]
    }
   ],
   "source": [
    "# create design matrix, model and fit\n",
    "X = sm.add_constant(np.column_stack((x1,x2)))\n",
    "model = sm.OLS(y,X)\n",
    "estimate = model.fit()\n",
    "print(estimate.summary())\n",
    "print('\\n')\n",
    "print('[beta_0, beta_1, beta_2] are ',estimate.params)"
   ]
  },
  {
   "cell_type": "markdown",
   "metadata": {},
   "source": [
    "#### The intercept $\\beta_0 = 1.92$ is significant and $\\beta_1$ is barely significant so we reject the hypothesis that $\\beta_0=0$ and the hypothesis that $\\beta_1=0$ but we can't reject the hypothesis that $\\beta_2 = 0$. Also notice the SE and confidence intervals for all three coeffecients are verly large."
   ]
  },
  {
   "cell_type": "markdown",
   "metadata": {},
   "source": [
    "## Fit Least Squares Regression for One Variable"
   ]
  },
  {
   "cell_type": "code",
   "execution_count": 49,
   "metadata": {
    "collapsed": false
   },
   "outputs": [
    {
     "name": "stdout",
     "output_type": "stream",
     "text": [
      "########## Model using x1 predictor ##########\n",
      "                            OLS Regression Results                            \n",
      "==============================================================================\n",
      "Dep. Variable:                      y   R-squared:                       0.244\n",
      "Model:                            OLS   Adj. R-squared:                  0.236\n",
      "Method:                 Least Squares   F-statistic:                     31.64\n",
      "Date:                Tue, 28 Jun 2016   Prob (F-statistic):           1.76e-07\n",
      "Time:                        16:22:05   Log-Likelihood:                -140.20\n",
      "No. Observations:                 100   AIC:                             284.4\n",
      "Df Residuals:                      98   BIC:                             289.6\n",
      "Df Model:                           1                                         \n",
      "Covariance Type:            nonrobust                                         \n",
      "==============================================================================\n",
      "                 coef    std err          t      P>|t|      [95.0% Conf. Int.]\n",
      "------------------------------------------------------------------------------\n",
      "const          1.9548      0.191     10.247      0.000         1.576     2.333\n",
      "x1             1.9378      0.344      5.625      0.000         1.254     2.621\n",
      "==============================================================================\n",
      "Omnibus:                        0.305   Durbin-Watson:                   2.127\n",
      "Prob(Omnibus):                  0.858   Jarque-Bera (JB):                0.050\n",
      "Skew:                          -0.005   Prob(JB):                        0.975\n",
      "Kurtosis:                       3.109   Cond. No.                         4.30\n",
      "==============================================================================\n",
      "\n",
      "Warnings:\n",
      "[1] Standard Errors assume that the covariance matrix of the errors is correctly specified.\n",
      "\n",
      "\n",
      "########## Model Using x2 predictor ##########\n",
      "                            OLS Regression Results                            \n",
      "==============================================================================\n",
      "Dep. Variable:                      y   R-squared:                       0.231\n",
      "Model:                            OLS   Adj. R-squared:                  0.223\n",
      "Method:                 Least Squares   F-statistic:                     29.37\n",
      "Date:                Tue, 28 Jun 2016   Prob (F-statistic):           4.29e-07\n",
      "Time:                        16:22:05   Log-Likelihood:                -141.09\n",
      "No. Observations:                 100   AIC:                             286.2\n",
      "Df Residuals:                      98   BIC:                             291.4\n",
      "Df Model:                           1                                         \n",
      "Covariance Type:            nonrobust                                         \n",
      "==============================================================================\n",
      "                 coef    std err          t      P>|t|      [95.0% Conf. Int.]\n",
      "------------------------------------------------------------------------------\n",
      "const          2.0721      0.178     11.623      0.000         1.718     2.426\n",
      "x1             3.1255      0.577      5.419      0.000         1.981     4.270\n",
      "==============================================================================\n",
      "Omnibus:                        0.213   Durbin-Watson:                   2.005\n",
      "Prob(Omnibus):                  0.899   Jarque-Bera (JB):                0.187\n",
      "Skew:                           0.100   Prob(JB):                        0.911\n",
      "Kurtosis:                       2.929   Cond. No.                         6.14\n",
      "==============================================================================\n",
      "\n",
      "Warnings:\n",
      "[1] Standard Errors assume that the covariance matrix of the errors is correctly specified.\n"
     ]
    }
   ],
   "source": [
    "# Fit a least squares regression using only x1\n",
    "\n",
    "X = sm.add_constant(x1)\n",
    "model_x1 = sm.OLS(y,X)\n",
    "estimate_x1 = model_x1.fit()\n",
    "\n",
    "print('########## Model using x1 predictor ##########')\n",
    "print(estimate_x1.summary())\n",
    "\n",
    "print('\\n')\n",
    "\n",
    "# Fit a least squares regression using x2\n",
    "X2 = sm.add_constant(x2)\n",
    "model_x2 = sm.OLS(y,X2)\n",
    "estimate_x2 = model_x2.fit()\n",
    "print('########## Model Using x2 predictor ##########')\n",
    "print(estimate_x2.summary())"
   ]
  },
  {
   "cell_type": "markdown",
   "metadata": {},
   "source": [
    "#### In model 1, $y \\sim x_1$, we find that the coeffecient is close to the true value and is now very significant. In model 2 $y \\sim x_2$, we find that the coeffecient for $x_2$ is now very significant. Note there is no contradiction here. $x_1$ and $x_2$ are strongly correlated and each is related to $y$ independent of each other. Only $x_1 \\,or\\, x_2$ is needed to caputure the models systematic variance.  "
   ]
  },
  {
   "cell_type": "markdown",
   "metadata": {},
   "source": [
    "## Fit Least Squares Regression with Possible High Leverage or Outlier"
   ]
  },
  {
   "cell_type": "code",
   "execution_count": 50,
   "metadata": {
    "collapsed": false
   },
   "outputs": [
    {
     "name": "stdout",
     "output_type": "stream",
     "text": [
      "                            OLS Regression Results                            \n",
      "==============================================================================\n",
      "Dep. Variable:                      y   R-squared:                       0.278\n",
      "Model:                            OLS   Adj. R-squared:                  0.263\n",
      "Method:                 Least Squares   F-statistic:                     18.85\n",
      "Date:                Tue, 28 Jun 2016   Prob (F-statistic):           1.18e-07\n",
      "Time:                        16:48:01   Log-Likelihood:                -142.48\n",
      "No. Observations:                 101   AIC:                             291.0\n",
      "Df Residuals:                      98   BIC:                             298.8\n",
      "Df Model:                           2                                         \n",
      "Covariance Type:            nonrobust                                         \n",
      "==============================================================================\n",
      "                 coef    std err          t      P>|t|      [95.0% Conf. Int.]\n",
      "------------------------------------------------------------------------------\n",
      "const          1.9480      0.194     10.025      0.000         1.562     2.334\n",
      "x1             0.4799      0.513      0.935      0.352        -0.538     1.498\n",
      "x2             2.7923      0.820      3.407      0.001         1.166     4.419\n",
      "==============================================================================\n",
      "Omnibus:                        0.064   Durbin-Watson:                   2.010\n",
      "Prob(Omnibus):                  0.969   Jarque-Bera (JB):                0.096\n",
      "Skew:                           0.055   Prob(JB):                        0.953\n",
      "Kurtosis:                       2.897   Cond. No.                         10.5\n",
      "==============================================================================\n",
      "\n",
      "Warnings:\n",
      "[1] Standard Errors assume that the covariance matrix of the errors is correctly specified.\n",
      "\n",
      "\n",
      "[beta_0, beta_1, beta_2] are  [ 1.94803965  0.47988201  2.79232883]\n"
     ]
    }
   ],
   "source": [
    "# append new data points onto x1 and x2 and y\n",
    "x1 = np.append(x1,0.1)\n",
    "x2 = np.append(x2, 0.8)\n",
    "y = np.append(y,6)\n",
    "\n",
    "# create design matrix, model and fit for multiple regression\n",
    "X = sm.add_constant(np.column_stack((x1,x2)))\n",
    "model = sm.OLS(y,X)\n",
    "estimate = model.fit()\n",
    "print(estimate.summary())\n",
    "print('\\n')\n",
    "print('[beta_0, beta_1, beta_2] are ',estimate.params)"
   ]
  },
  {
   "cell_type": "markdown",
   "metadata": {},
   "source": [
    "#### $\\beta_0 \\, \\beta_2$ are now significant whereas in the previous multiple regression $\\beta_0 \\, \\beta_1$ were significant."
   ]
  },
  {
   "cell_type": "code",
   "execution_count": 51,
   "metadata": {
    "collapsed": false
   },
   "outputs": [
    {
     "name": "stdout",
     "output_type": "stream",
     "text": [
      "########## Model using x1 predictor ##########\n",
      "                            OLS Regression Results                            \n",
      "==============================================================================\n",
      "Dep. Variable:                      y   R-squared:                       0.192\n",
      "Model:                            OLS   Adj. R-squared:                  0.184\n",
      "Method:                 Least Squares   F-statistic:                     23.57\n",
      "Date:                Tue, 28 Jun 2016   Prob (F-statistic):           4.50e-06\n",
      "Time:                        16:50:25   Log-Likelihood:                -148.13\n",
      "No. Observations:                 101   AIC:                             300.3\n",
      "Df Residuals:                      99   BIC:                             305.5\n",
      "Df Model:                           1                                         \n",
      "Covariance Type:            nonrobust                                         \n",
      "==============================================================================\n",
      "                 coef    std err          t      P>|t|      [95.0% Conf. Int.]\n",
      "------------------------------------------------------------------------------\n",
      "const          2.0719      0.201     10.315      0.000         1.673     2.470\n",
      "x1             1.7696      0.364      4.855      0.000         1.046     2.493\n",
      "==============================================================================\n",
      "Omnibus:                        6.291   Durbin-Watson:                   1.848\n",
      "Prob(Omnibus):                  0.043   Jarque-Bera (JB):                6.776\n",
      "Skew:                           0.373   Prob(JB):                       0.0338\n",
      "Kurtosis:                       4.027   Cond. No.                         4.27\n",
      "==============================================================================\n",
      "\n",
      "Warnings:\n",
      "[1] Standard Errors assume that the covariance matrix of the errors is correctly specified.\n",
      "\n",
      "\n",
      "########## Model Using x2 predictor ##########\n",
      "                            OLS Regression Results                            \n",
      "==============================================================================\n",
      "Dep. Variable:                      y   R-squared:                       0.271\n",
      "Model:                            OLS   Adj. R-squared:                  0.264\n",
      "Method:                 Least Squares   F-statistic:                     36.88\n",
      "Date:                Tue, 28 Jun 2016   Prob (F-statistic):           2.33e-08\n",
      "Time:                        16:50:25   Log-Likelihood:                -142.93\n",
      "No. Observations:                 101   AIC:                             289.9\n",
      "Df Residuals:                      99   BIC:                             295.1\n",
      "Df Model:                           1                                         \n",
      "Covariance Type:            nonrobust                                         \n",
      "==============================================================================\n",
      "                 coef    std err          t      P>|t|      [95.0% Conf. Int.]\n",
      "------------------------------------------------------------------------------\n",
      "const          2.0255      0.176     11.531      0.000         1.677     2.374\n",
      "x1             3.3578      0.553      6.073      0.000         2.261     4.455\n",
      "==============================================================================\n",
      "Omnibus:                        0.071   Durbin-Watson:                   1.999\n",
      "Prob(Omnibus):                  0.965   Jarque-Bera (JB):                0.141\n",
      "Skew:                           0.061   Prob(JB):                        0.932\n",
      "Kurtosis:                       2.864   Cond. No.                         5.91\n",
      "==============================================================================\n",
      "\n",
      "Warnings:\n",
      "[1] Standard Errors assume that the covariance matrix of the errors is correctly specified.\n"
     ]
    }
   ],
   "source": [
    "# Fit a least squares regression using only x1\n",
    "\n",
    "X = sm.add_constant(x1)\n",
    "model_x1 = sm.OLS(y,X)\n",
    "estimate_x1 = model_x1.fit()\n",
    "\n",
    "print('########## Model using x1 predictor ##########')\n",
    "print(estimate_x1.summary())\n",
    "\n",
    "print('\\n')\n",
    "\n",
    "# Fit a least squares regression using x2\n",
    "X2 = sm.add_constant(x2)\n",
    "model_x2 = sm.OLS(y,X2)\n",
    "estimate_x2 = model_x2.fit()\n",
    "print('########## Model Using x2 predictor ##########')\n",
    "print(estimate_x2.summary())"
   ]
  },
  {
   "cell_type": "code",
   "execution_count": null,
   "metadata": {
    "collapsed": true
   },
   "outputs": [],
   "source": []
  }
 ],
 "metadata": {
  "kernelspec": {
   "display_name": "Python 3",
   "language": "python",
   "name": "python3"
  },
  "language_info": {
   "codemirror_mode": {
    "name": "ipython",
    "version": 3
   },
   "file_extension": ".py",
   "mimetype": "text/x-python",
   "name": "python",
   "nbconvert_exporter": "python",
   "pygments_lexer": "ipython3",
   "version": "3.5.1+"
  }
 },
 "nbformat": 4,
 "nbformat_minor": 0
}
