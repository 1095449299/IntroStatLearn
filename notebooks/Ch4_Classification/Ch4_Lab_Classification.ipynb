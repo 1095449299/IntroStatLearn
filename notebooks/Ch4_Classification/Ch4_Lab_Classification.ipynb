{
 "cells": [
  {
   "cell_type": "markdown",
   "metadata": {},
   "source": [
    "# ISLR- Python: Chapter 4 -- Classification"
   ]
  },
  {
   "cell_type": "markdown",
   "metadata": {},
   "source": [
    "- [Load Datasets](#Load-Datasets)\n",
    "- [Logistic Regression of Market Direction](#Logistic-Regression-of-Market-Direction)"
   ]
  },
  {
   "cell_type": "code",
   "execution_count": 1,
   "metadata": {
    "collapsed": false
   },
   "outputs": [],
   "source": [
    "## perform imports and set-up\n",
    "import numpy as np\n",
    "import pandas as pd\n",
    "import statsmodels.api as sm\n",
    "import statsmodels.formula.api as smf\n",
    "\n",
    "from scipy import stats\n",
    "from matplotlib import pyplot as plt\n",
    "\n",
    "%matplotlib inline\n",
    "plt.style.use('ggplot') # emulate pretty r-style plots"
   ]
  },
  {
   "cell_type": "markdown",
   "metadata": {},
   "source": [
    "## Load Datasets"
   ]
  },
  {
   "cell_type": "code",
   "execution_count": 2,
   "metadata": {
    "collapsed": false
   },
   "outputs": [
    {
     "data": {
      "text/html": [
       "<div>\n",
       "<table border=\"1\" class=\"dataframe\">\n",
       "  <thead>\n",
       "    <tr style=\"text-align: right;\">\n",
       "      <th></th>\n",
       "      <th>Year</th>\n",
       "      <th>Lag1</th>\n",
       "      <th>Lag2</th>\n",
       "      <th>Lag3</th>\n",
       "      <th>Lag4</th>\n",
       "      <th>Lag5</th>\n",
       "      <th>Volume</th>\n",
       "      <th>Today</th>\n",
       "      <th>Direction</th>\n",
       "    </tr>\n",
       "  </thead>\n",
       "  <tbody>\n",
       "    <tr>\n",
       "      <th>1</th>\n",
       "      <td>2001</td>\n",
       "      <td>0.381</td>\n",
       "      <td>-0.192</td>\n",
       "      <td>-2.624</td>\n",
       "      <td>-1.055</td>\n",
       "      <td>5.010</td>\n",
       "      <td>1.1913</td>\n",
       "      <td>0.959</td>\n",
       "      <td>Up</td>\n",
       "    </tr>\n",
       "    <tr>\n",
       "      <th>2</th>\n",
       "      <td>2001</td>\n",
       "      <td>0.959</td>\n",
       "      <td>0.381</td>\n",
       "      <td>-0.192</td>\n",
       "      <td>-2.624</td>\n",
       "      <td>-1.055</td>\n",
       "      <td>1.2965</td>\n",
       "      <td>1.032</td>\n",
       "      <td>Up</td>\n",
       "    </tr>\n",
       "    <tr>\n",
       "      <th>3</th>\n",
       "      <td>2001</td>\n",
       "      <td>1.032</td>\n",
       "      <td>0.959</td>\n",
       "      <td>0.381</td>\n",
       "      <td>-0.192</td>\n",
       "      <td>-2.624</td>\n",
       "      <td>1.4112</td>\n",
       "      <td>-0.623</td>\n",
       "      <td>Down</td>\n",
       "    </tr>\n",
       "    <tr>\n",
       "      <th>4</th>\n",
       "      <td>2001</td>\n",
       "      <td>-0.623</td>\n",
       "      <td>1.032</td>\n",
       "      <td>0.959</td>\n",
       "      <td>0.381</td>\n",
       "      <td>-0.192</td>\n",
       "      <td>1.2760</td>\n",
       "      <td>0.614</td>\n",
       "      <td>Up</td>\n",
       "    </tr>\n",
       "    <tr>\n",
       "      <th>5</th>\n",
       "      <td>2001</td>\n",
       "      <td>0.614</td>\n",
       "      <td>-0.623</td>\n",
       "      <td>1.032</td>\n",
       "      <td>0.959</td>\n",
       "      <td>0.381</td>\n",
       "      <td>1.2057</td>\n",
       "      <td>0.213</td>\n",
       "      <td>Up</td>\n",
       "    </tr>\n",
       "  </tbody>\n",
       "</table>\n",
       "</div>"
      ],
      "text/plain": [
       "   Year   Lag1   Lag2   Lag3   Lag4   Lag5  Volume  Today Direction\n",
       "1  2001  0.381 -0.192 -2.624 -1.055  5.010  1.1913  0.959        Up\n",
       "2  2001  0.959  0.381 -0.192 -2.624 -1.055  1.2965  1.032        Up\n",
       "3  2001  1.032  0.959  0.381 -0.192 -2.624  1.4112 -0.623      Down\n",
       "4  2001 -0.623  1.032  0.959  0.381 -0.192  1.2760  0.614        Up\n",
       "5  2001  0.614 -0.623  1.032  0.959  0.381  1.2057  0.213        Up"
      ]
     },
     "execution_count": 2,
     "metadata": {},
     "output_type": "execute_result"
    }
   ],
   "source": [
    "# Load data and display first rows\n",
    "market_df = pd.read_csv('../../data/Smarket.csv',index_col=0)\n",
    "market_df.head()"
   ]
  },
  {
   "cell_type": "code",
   "execution_count": 3,
   "metadata": {
    "collapsed": false
   },
   "outputs": [
    {
     "name": "stdout",
     "output_type": "stream",
     "text": [
      "(1250, 9)\n"
     ]
    },
    {
     "data": {
      "text/html": [
       "<div>\n",
       "<table border=\"1\" class=\"dataframe\">\n",
       "  <thead>\n",
       "    <tr style=\"text-align: right;\">\n",
       "      <th></th>\n",
       "      <th>Year</th>\n",
       "      <th>Lag1</th>\n",
       "      <th>Lag2</th>\n",
       "      <th>Lag3</th>\n",
       "      <th>Lag4</th>\n",
       "      <th>Lag5</th>\n",
       "      <th>Volume</th>\n",
       "      <th>Today</th>\n",
       "    </tr>\n",
       "  </thead>\n",
       "  <tbody>\n",
       "    <tr>\n",
       "      <th>count</th>\n",
       "      <td>1250.000000</td>\n",
       "      <td>1250.000000</td>\n",
       "      <td>1250.000000</td>\n",
       "      <td>1250.000000</td>\n",
       "      <td>1250.000000</td>\n",
       "      <td>1250.00000</td>\n",
       "      <td>1250.000000</td>\n",
       "      <td>1250.000000</td>\n",
       "    </tr>\n",
       "    <tr>\n",
       "      <th>mean</th>\n",
       "      <td>2003.016000</td>\n",
       "      <td>0.003834</td>\n",
       "      <td>0.003919</td>\n",
       "      <td>0.001716</td>\n",
       "      <td>0.001636</td>\n",
       "      <td>0.00561</td>\n",
       "      <td>1.478305</td>\n",
       "      <td>0.003138</td>\n",
       "    </tr>\n",
       "    <tr>\n",
       "      <th>std</th>\n",
       "      <td>1.409018</td>\n",
       "      <td>1.136299</td>\n",
       "      <td>1.136280</td>\n",
       "      <td>1.138703</td>\n",
       "      <td>1.138774</td>\n",
       "      <td>1.14755</td>\n",
       "      <td>0.360357</td>\n",
       "      <td>1.136334</td>\n",
       "    </tr>\n",
       "    <tr>\n",
       "      <th>min</th>\n",
       "      <td>2001.000000</td>\n",
       "      <td>-4.922000</td>\n",
       "      <td>-4.922000</td>\n",
       "      <td>-4.922000</td>\n",
       "      <td>-4.922000</td>\n",
       "      <td>-4.92200</td>\n",
       "      <td>0.356070</td>\n",
       "      <td>-4.922000</td>\n",
       "    </tr>\n",
       "    <tr>\n",
       "      <th>25%</th>\n",
       "      <td>2002.000000</td>\n",
       "      <td>-0.639500</td>\n",
       "      <td>-0.639500</td>\n",
       "      <td>-0.640000</td>\n",
       "      <td>-0.640000</td>\n",
       "      <td>-0.64000</td>\n",
       "      <td>1.257400</td>\n",
       "      <td>-0.639500</td>\n",
       "    </tr>\n",
       "    <tr>\n",
       "      <th>50%</th>\n",
       "      <td>2003.000000</td>\n",
       "      <td>0.039000</td>\n",
       "      <td>0.039000</td>\n",
       "      <td>0.038500</td>\n",
       "      <td>0.038500</td>\n",
       "      <td>0.03850</td>\n",
       "      <td>1.422950</td>\n",
       "      <td>0.038500</td>\n",
       "    </tr>\n",
       "    <tr>\n",
       "      <th>75%</th>\n",
       "      <td>2004.000000</td>\n",
       "      <td>0.596750</td>\n",
       "      <td>0.596750</td>\n",
       "      <td>0.596750</td>\n",
       "      <td>0.596750</td>\n",
       "      <td>0.59700</td>\n",
       "      <td>1.641675</td>\n",
       "      <td>0.596750</td>\n",
       "    </tr>\n",
       "    <tr>\n",
       "      <th>max</th>\n",
       "      <td>2005.000000</td>\n",
       "      <td>5.733000</td>\n",
       "      <td>5.733000</td>\n",
       "      <td>5.733000</td>\n",
       "      <td>5.733000</td>\n",
       "      <td>5.73300</td>\n",
       "      <td>3.152470</td>\n",
       "      <td>5.733000</td>\n",
       "    </tr>\n",
       "  </tbody>\n",
       "</table>\n",
       "</div>"
      ],
      "text/plain": [
       "              Year         Lag1         Lag2         Lag3         Lag4  \\\n",
       "count  1250.000000  1250.000000  1250.000000  1250.000000  1250.000000   \n",
       "mean   2003.016000     0.003834     0.003919     0.001716     0.001636   \n",
       "std       1.409018     1.136299     1.136280     1.138703     1.138774   \n",
       "min    2001.000000    -4.922000    -4.922000    -4.922000    -4.922000   \n",
       "25%    2002.000000    -0.639500    -0.639500    -0.640000    -0.640000   \n",
       "50%    2003.000000     0.039000     0.039000     0.038500     0.038500   \n",
       "75%    2004.000000     0.596750     0.596750     0.596750     0.596750   \n",
       "max    2005.000000     5.733000     5.733000     5.733000     5.733000   \n",
       "\n",
       "             Lag5       Volume        Today  \n",
       "count  1250.00000  1250.000000  1250.000000  \n",
       "mean      0.00561     1.478305     0.003138  \n",
       "std       1.14755     0.360357     1.136334  \n",
       "min      -4.92200     0.356070    -4.922000  \n",
       "25%      -0.64000     1.257400    -0.639500  \n",
       "50%       0.03850     1.422950     0.038500  \n",
       "75%       0.59700     1.641675     0.596750  \n",
       "max       5.73300     3.152470     5.733000  "
      ]
     },
     "execution_count": 3,
     "metadata": {},
     "output_type": "execute_result"
    }
   ],
   "source": [
    "# Show summary statistics of the data\n",
    "print(market_df.shape)\n",
    "market_df.describe()"
   ]
  },
  {
   "cell_type": "code",
   "execution_count": 4,
   "metadata": {
    "collapsed": false
   },
   "outputs": [
    {
     "name": "stdout",
     "output_type": "stream",
     "text": [
      "            Year      Lag1      Lag2      Lag3      Lag4      Lag5    Volume  \\\n",
      "Year    1.000000  0.029700  0.030596  0.033195  0.035689  0.029788  0.539006   \n",
      "Lag1    0.029700  1.000000 -0.026294 -0.010803 -0.002986 -0.005675  0.040910   \n",
      "Lag2    0.030596 -0.026294  1.000000 -0.025897 -0.010854 -0.003558 -0.043383   \n",
      "Lag3    0.033195 -0.010803 -0.025897  1.000000 -0.024051 -0.018808 -0.041824   \n",
      "Lag4    0.035689 -0.002986 -0.010854 -0.024051  1.000000 -0.027084 -0.048414   \n",
      "Lag5    0.029788 -0.005675 -0.003558 -0.018808 -0.027084  1.000000 -0.022002   \n",
      "Volume  0.539006  0.040910 -0.043383 -0.041824 -0.048414 -0.022002  1.000000   \n",
      "Today   0.030095 -0.026155 -0.010250 -0.002448 -0.006900 -0.034860  0.014592   \n",
      "\n",
      "           Today  \n",
      "Year    0.030095  \n",
      "Lag1   -0.026155  \n",
      "Lag2   -0.010250  \n",
      "Lag3   -0.002448  \n",
      "Lag4   -0.006900  \n",
      "Lag5   -0.034860  \n",
      "Volume  0.014592  \n",
      "Today   1.000000  \n"
     ]
    }
   ],
   "source": [
    "# Compute correlation coeffecient matrix\n",
    "corr_matrix = market_df.corr(method='pearson')\n",
    "print(corr_matrix)"
   ]
  },
  {
   "cell_type": "markdown",
   "metadata": {},
   "source": [
    "#### There is no correlation between todays percentage return and the previous 5 days (lag1..lag5) days precentage returns. The only correlation is between years and volume. The plot below shows that volume increases over time."
   ]
  },
  {
   "cell_type": "code",
   "execution_count": 5,
   "metadata": {
    "collapsed": false
   },
   "outputs": [
    {
     "data": {
      "image/png": "[encoded data removed]",
      "text/plain": [
       "<matplotlib.figure.Figure at 0x7f6ae94da400>"
      ]
     },
     "metadata": {},
     "output_type": "display_data"
    }
   ],
   "source": [
    "fig, ax = plt.subplots(figsize = (8,6))\n",
    "ax.scatter(market_df.index, market_df.Volume.values);\n",
    "ax.set_xlabel('Days');\n",
    "ax.set_ylabel('Volume in Billions');"
   ]
  },
  {
   "cell_type": "markdown",
   "metadata": {},
   "source": [
    "## Logistic Regression of Market Direction"
   ]
  },
  {
   "cell_type": "markdown",
   "metadata": {},
   "source": [
    "#### Attempt to predict market direction (up/down) using the lags and volume predictors. "
   ]
  },
  {
   "cell_type": "code",
   "execution_count": 6,
   "metadata": {
    "collapsed": false,
    "scrolled": false
   },
   "outputs": [
    {
     "name": "stdout",
     "output_type": "stream",
     "text": [
      "Optimization terminated successfully.\n",
      "         Current function value: 0.691034\n",
      "         Iterations 4\n",
      "                           Logit Regression Results                           \n",
      "==============================================================================\n",
      "Dep. Variable:                      y   No. Observations:                 1250\n",
      "Model:                          Logit   Df Residuals:                     1243\n",
      "Method:                           MLE   Df Model:                            6\n",
      "Date:                Mon, 11 Jul 2016   Pseudo R-squ.:                0.002074\n",
      "Time:                        10:29:26   Log-Likelihood:                -863.79\n",
      "converged:                       True   LL-Null:                       -865.59\n",
      "                                        LLR p-value:                    0.7319\n",
      "==============================================================================\n",
      "                 coef    std err          z      P>|z|      [95.0% Conf. Int.]\n",
      "------------------------------------------------------------------------------\n",
      "const         -0.1260      0.241     -0.523      0.601        -0.598     0.346\n",
      "Lag1          -0.0731      0.050     -1.457      0.145        -0.171     0.025\n",
      "Lag2          -0.0423      0.050     -0.845      0.398        -0.140     0.056\n",
      "Lag3           0.0111      0.050      0.222      0.824        -0.087     0.109\n",
      "Lag4           0.0094      0.050      0.187      0.851        -0.089     0.107\n",
      "Lag5           0.0103      0.050      0.208      0.835        -0.087     0.107\n",
      "Volume         0.1354      0.158      0.855      0.392        -0.175     0.446\n",
      "==============================================================================\n"
     ]
    }
   ],
   "source": [
    "# Get the lag and volume column names\n",
    "predictors = market_df.columns[1:7]\n",
    "# Create the design matrix\n",
    "X = sm.add_constant(market_df[predictors])\n",
    "# Encode the response as 0,1 for down/up\n",
    "Y = pd.Series([1 if el=='Up' else 0 for el in market_df.Direction.values],index=X.index)\n",
    "logit = sm.Logit(Y,X)\n",
    "results = logit.fit()\n",
    "print(results.summary())"
   ]
  },
  {
   "cell_type": "code",
   "execution_count": 7,
   "metadata": {
    "collapsed": false
   },
   "outputs": [
    {
     "name": "stdout",
     "output_type": "stream",
     "text": [
      "[ 0.50708413  0.48146788  0.48113883  0.51522236  0.51078116  0.50695646\n",
      "  0.49265087  0.50922916  0.51761353  0.48883778]\n"
     ]
    },
    {
     "data": {
      "text/plain": [
       "['Up', 'Down', 'Down', 'Up', 'Up', 'Up', 'Down', 'Up', 'Up', 'Down']"
      ]
     },
     "execution_count": 7,
     "metadata": {},
     "output_type": "execute_result"
    }
   ],
   "source": [
    "# get the first 10 predictions for the training data set\n",
    "training_predictions = results.predict(X)[:10]\n",
    "print(training_predictions)\n",
    "\n",
    "# convert the probabilities to 'Up' or 'Down' qualitative variables\n",
    "direction_predictions = ['Up' if el > 0.5 else 'Down' for el in training_predictions]\n",
    "direction_predictions[:10]"
   ]
  },
  {
   "cell_type": "code",
   "execution_count": 8,
   "metadata": {
    "collapsed": false
   },
   "outputs": [
    {
     "name": "stdout",
     "output_type": "stream",
     "text": [
      "      Down   Up\n",
      "Down   145  457\n",
      "Up     141  507\n",
      "\n",
      "The model made 0.5216 % correct predictions on the TRAINING SET.\n"
     ]
    }
   ],
   "source": [
    "# we can now build a confusion matrix to asses the correct and incorrect predictions. \n",
    "table = results.pred_table(threshold=0.5)\n",
    "confusion_df = pd.DataFrame(table,['Down','Up'],['Down','Up'])\n",
    "print(confusion_df)\n",
    "print('')\n",
    "print('The model made', \n",
    "      (confusion_df.Down[0]+confusion_df.Up[1])/confusion_df.sum().sum(), '% correct predictions on the TRAINING SET.')"
   ]
  },
  {
   "cell_type": "markdown",
   "metadata": {},
   "source": [
    "#### Split the data into a training and test set and recompute the model's accuracy on the test set."
   ]
  },
  {
   "cell_type": "code",
   "execution_count": 23,
   "metadata": {
    "collapsed": false
   },
   "outputs": [
    {
     "name": "stdout",
     "output_type": "stream",
     "text": [
      "Optimization terminated successfully.\n",
      "         Current function value: 0.691936\n",
      "         Iterations 4\n",
      "\n",
      " The model made 0.480158730159 % correct predictions on the TEST SET.\n"
     ]
    },
    {
     "data": {
      "text/html": [
       "<div>\n",
       "<table border=\"1\" class=\"dataframe\">\n",
       "  <thead>\n",
       "    <tr style=\"text-align: right;\">\n",
       "      <th></th>\n",
       "      <th>Down</th>\n",
       "      <th>Up</th>\n",
       "    </tr>\n",
       "  </thead>\n",
       "  <tbody>\n",
       "    <tr>\n",
       "      <th>Down</th>\n",
       "      <td>77</td>\n",
       "      <td>97</td>\n",
       "    </tr>\n",
       "    <tr>\n",
       "      <th>Up</th>\n",
       "      <td>34</td>\n",
       "      <td>44</td>\n",
       "    </tr>\n",
       "  </tbody>\n",
       "</table>\n",
       "</div>"
      ],
      "text/plain": [
       "      Down  Up\n",
       "Down    77  97\n",
       "Up      34  44"
      ]
     },
     "execution_count": 23,
     "metadata": {},
     "output_type": "execute_result"
    }
   ],
   "source": [
    "# Split the data into training and test dataframes\n",
    "training_df = market_df[market_df.Year<2005]\n",
    "test_df = market_df[market_df.Year==2005]\n",
    "\n",
    "# Compute Training Coeffecients #\n",
    "#################################\n",
    "# Use the lags and volume as predictors for the years 2001 to 2004 (training set)\n",
    "predictors = training_df.columns[1:7]\n",
    "# Create the design matrix for the training_df\n",
    "X_train = sm.add_constant(training_df[predictors])\n",
    "\n",
    "# Encode the response as 0,1 for down/up for response variable of the training set\n",
    "Y_train = pd.Series([1 if el=='Up' else 0 for el in training_df.Direction.values],index=X_train.index)\n",
    "# fit the model and return the training results\n",
    "train_logit = sm.Logit(Y_train,X_train)\n",
    "train_results = train_logit.fit()\n",
    "\n",
    "# Make Predictions on Test Set #\n",
    "################################\n",
    "# make a design matrix for the testing data\n",
    "X_test = sm.add_constant(test_df[predictors])\n",
    "\n",
    "# Encode the response as 0,1 for down/up for response variable of the test set\n",
    "Y_test = pd.Series([1 if el=='Up' else 0 for el in test_df.Direction.values],index=X_test.index)\n",
    "\n",
    "# now use the training coeffecients to make predictions about the returns of the testing set (year=2005)\n",
    "test_predictions = train_results.predict(X_test)\n",
    "\n",
    "# Convert the probability predictions to a binary prediction\n",
    "prediction_array = np.array(test_predictions > 0.5, dtype=float)\n",
    "\n",
    "# print the percentage of correct predictions\n",
    "print('')\n",
    "print(' The model made', np.mean(prediction_array == Y_test),'% correct predictions on the TEST SET.')\n",
    "\n",
    "# Compute Test Confusion Matrix #\n",
    "#################################\n",
    "# Stats models doesn't have an option for a confusion matrix for test sets-- we build one by hand using\n",
    "# hsitogram2d\n",
    "table = np.histogram2d(prediction_array, Y_test, bins=2)[0]\n",
    "pd.DataFrame(table, ['Down', 'Up'], ['Down', 'Up'])"
   ]
  },
  {
   "cell_type": "markdown",
   "metadata": {},
   "source": [
    "#### Fit a model using only the two lowest p-value lag variables (lag1 and lag2)."
   ]
  },
  {
   "cell_type": "markdown",
   "metadata": {},
   "source": [
    "Adding non-significant variables to our model reduces the performance on the training set because it causes an increase in the model variance without a corresponding decrease in the bias. We now fit a reduced model with only the lag1 and lag2 variables since these two had the lowest p-values in the full model."
   ]
  },
  {
   "cell_type": "code",
   "execution_count": 34,
   "metadata": {
    "collapsed": false
   },
   "outputs": [
    {
     "name": "stdout",
     "output_type": "stream",
     "text": [
      "Optimization terminated successfully.\n",
      "         Current function value: 0.692085\n",
      "         Iterations 3\n",
      "\n",
      " The model made 0.559523809524 % correct predictions on the TEST SET using ['Lag1', 'Lag2'] predictors.\n",
      "\n",
      "      Down   Up\n",
      "Down    35   35\n",
      "Up      76  106\n",
      "\n",
      "On days where the previous day was 'Up' the probability the market will be 'Up' is 0.582417582418\n"
     ]
    }
   ],
   "source": [
    "# Compute Reduced Training Model Coeffecients #\n",
    "###############################################\n",
    "# use lag 1 and lag 2 as the predictors\n",
    "predictors = ['Lag1','Lag2']\n",
    "X_train_red = sm.add_constant(training_df[predictors])\n",
    "# Encode the response as 0,1 for down/up for response variable of the training set\n",
    "Y_train_red = pd.Series([1 if el=='Up' else 0 for el in training_df.Direction.values],index=X_train_red.index)\n",
    "# fit the model and return the training results\n",
    "train_logit_red = sm.Logit(Y_train_red,X_train_red)\n",
    "train_results_red = train_logit_red.fit()\n",
    "\n",
    "# Make Predictions on Test Set #\n",
    "################################\n",
    "# make design matrix for testing data\n",
    "X_test_red = X_train_red = sm.add_constant(test_df[predictors])\n",
    "# Encode the response as 0,1 for down/up for response variable of the test set\n",
    "Y_test_red = pd.Series([1 if el=='Up' else 0 for el in test_df.Direction.values],index=X_test_red.index)\n",
    "\n",
    "# now use the training coeffecients to make predictions about the returns of the testing set (year=2005)\n",
    "test_predictions_red = train_results_red.predict(X_test_red)\n",
    "\n",
    "# Convert the probability predictions to a binary prediction\n",
    "prediction_array_red = np.array(test_predictions_red > 0.5, dtype=float)\n",
    "\n",
    "# print the percentage of correct predictions\n",
    "print('')\n",
    "print(' The model made', np.mean(prediction_array_red == Y_test_red),\n",
    "      '% correct predictions on the TEST SET using', predictors, 'predictors.')\n",
    "print('')\n",
    "\n",
    "# Compute Test Confusion Matrix #\n",
    "#################################\n",
    "# Stats models doesn't have an option for a confusion matrix for test sets-- we build one by hand using\n",
    "# hsitogram2d\n",
    "table = np.histogram2d(prediction_array_red, Y_test_red, bins=2)[0]\n",
    "print(pd.DataFrame(table, ['Down', 'Up'], ['Down', 'Up']))\n",
    "print('')\n",
    "print('On days where the previous day was \\'Up\\' the probability the market will be \\'Up\\' is',\n",
    "      table[1][1]/(table[1][0]+table[1][1]))"
   ]
  },
  {
   "cell_type": "code",
   "execution_count": null,
   "metadata": {
    "collapsed": true
   },
   "outputs": [],
   "source": []
  }
 ],
 "metadata": {
  "kernelspec": {
   "display_name": "Python 3",
   "language": "python",
   "name": "python3"
  },
  "language_info": {
   "codemirror_mode": {
    "name": "ipython",
    "version": 3
   },
   "file_extension": ".py",
   "mimetype": "text/x-python",
   "name": "python",
   "nbconvert_exporter": "python",
   "pygments_lexer": "ipython3",
   "version": "3.5.1+"
  }
 },
 "nbformat": 4,
 "nbformat_minor": 0
}
