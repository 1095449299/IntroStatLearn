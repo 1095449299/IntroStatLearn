{
 "cells": [
  {
   "cell_type": "markdown",
   "metadata": {},
   "source": [
    "# ISLR- Python Ch6 -- Lab 2: Ridge Regression and the Lasso"
   ]
  },
  {
   "cell_type": "markdown",
   "metadata": {},
   "source": [
    "- [Load Hitters Dataset](#Load-Hitters-Dataset)\n",
    "- [6.6.1 Ridge Regression](#6.6.1-Ridge-Regression)\n",
    "    - [Plot Regression Coeffecients vs Ridge Penalty](#Plot-Regression-Coeffecients-vs-Ridge-Penalty)\n",
    "    - [Use Validation And Cross Validation to Estimate Test MSE](#Use-Validation-And-Cross-Validation-to-Estimate-Test-MSE )\n",
    "- [6.6.2 The Lasso](#6.6.2-The-Lasso)"
   ]
  },
  {
   "cell_type": "code",
   "execution_count": 143,
   "metadata": {
    "collapsed": false
   },
   "outputs": [],
   "source": [
    "# perform standard imports\n",
    "import numpy as np\n",
    "import pandas as pd\n",
    "\n",
    "from sklearn.linear_model import Ridge, RidgeCV\n",
    "from sklearn.cross_validation import KFold\n",
    "from matplotlib import pyplot as plt\n",
    "from operator import itemgetter\n",
    "\n",
    "%matplotlib inline\n",
    "plt.style.use('ggplot') # emulate R's pretty plotting\n",
    "\n",
    "# print numpy arrays with precision 4\n",
    "#np.set_printoptions(precision=4)"
   ]
  },
  {
   "cell_type": "markdown",
   "metadata": {},
   "source": [
    "## Load Hitters Dataset"
   ]
  },
  {
   "cell_type": "code",
   "execution_count": 77,
   "metadata": {
    "collapsed": false
   },
   "outputs": [
    {
     "data": {
      "text/html": [
       "<div>\n",
       "<table border=\"1\" class=\"dataframe\">\n",
       "  <thead>\n",
       "    <tr style=\"text-align: right;\">\n",
       "      <th></th>\n",
       "      <th>AtBat</th>\n",
       "      <th>Hits</th>\n",
       "      <th>HmRun</th>\n",
       "      <th>Runs</th>\n",
       "      <th>RBI</th>\n",
       "      <th>Walks</th>\n",
       "      <th>Years</th>\n",
       "      <th>CAtBat</th>\n",
       "      <th>CHits</th>\n",
       "      <th>CHmRun</th>\n",
       "      <th>CRuns</th>\n",
       "      <th>CRBI</th>\n",
       "      <th>CWalks</th>\n",
       "      <th>PutOuts</th>\n",
       "      <th>Assists</th>\n",
       "      <th>Errors</th>\n",
       "      <th>Salary</th>\n",
       "      <th>League_N</th>\n",
       "      <th>Division_W</th>\n",
       "      <th>NewLeague_N</th>\n",
       "    </tr>\n",
       "  </thead>\n",
       "  <tbody>\n",
       "    <tr>\n",
       "      <th>-Alan Ashby</th>\n",
       "      <td>315</td>\n",
       "      <td>81</td>\n",
       "      <td>7</td>\n",
       "      <td>24</td>\n",
       "      <td>38</td>\n",
       "      <td>39</td>\n",
       "      <td>14</td>\n",
       "      <td>3449</td>\n",
       "      <td>835</td>\n",
       "      <td>69</td>\n",
       "      <td>321</td>\n",
       "      <td>414</td>\n",
       "      <td>375</td>\n",
       "      <td>632</td>\n",
       "      <td>43</td>\n",
       "      <td>10</td>\n",
       "      <td>475.0</td>\n",
       "      <td>1</td>\n",
       "      <td>1</td>\n",
       "      <td>1</td>\n",
       "    </tr>\n",
       "    <tr>\n",
       "      <th>-Alvin Davis</th>\n",
       "      <td>479</td>\n",
       "      <td>130</td>\n",
       "      <td>18</td>\n",
       "      <td>66</td>\n",
       "      <td>72</td>\n",
       "      <td>76</td>\n",
       "      <td>3</td>\n",
       "      <td>1624</td>\n",
       "      <td>457</td>\n",
       "      <td>63</td>\n",
       "      <td>224</td>\n",
       "      <td>266</td>\n",
       "      <td>263</td>\n",
       "      <td>880</td>\n",
       "      <td>82</td>\n",
       "      <td>14</td>\n",
       "      <td>480.0</td>\n",
       "      <td>0</td>\n",
       "      <td>1</td>\n",
       "      <td>0</td>\n",
       "    </tr>\n",
       "    <tr>\n",
       "      <th>-Andre Dawson</th>\n",
       "      <td>496</td>\n",
       "      <td>141</td>\n",
       "      <td>20</td>\n",
       "      <td>65</td>\n",
       "      <td>78</td>\n",
       "      <td>37</td>\n",
       "      <td>11</td>\n",
       "      <td>5628</td>\n",
       "      <td>1575</td>\n",
       "      <td>225</td>\n",
       "      <td>828</td>\n",
       "      <td>838</td>\n",
       "      <td>354</td>\n",
       "      <td>200</td>\n",
       "      <td>11</td>\n",
       "      <td>3</td>\n",
       "      <td>500.0</td>\n",
       "      <td>1</td>\n",
       "      <td>0</td>\n",
       "      <td>1</td>\n",
       "    </tr>\n",
       "    <tr>\n",
       "      <th>-Andres Galarraga</th>\n",
       "      <td>321</td>\n",
       "      <td>87</td>\n",
       "      <td>10</td>\n",
       "      <td>39</td>\n",
       "      <td>42</td>\n",
       "      <td>30</td>\n",
       "      <td>2</td>\n",
       "      <td>396</td>\n",
       "      <td>101</td>\n",
       "      <td>12</td>\n",
       "      <td>48</td>\n",
       "      <td>46</td>\n",
       "      <td>33</td>\n",
       "      <td>805</td>\n",
       "      <td>40</td>\n",
       "      <td>4</td>\n",
       "      <td>91.5</td>\n",
       "      <td>1</td>\n",
       "      <td>0</td>\n",
       "      <td>1</td>\n",
       "    </tr>\n",
       "    <tr>\n",
       "      <th>-Alfredo Griffin</th>\n",
       "      <td>594</td>\n",
       "      <td>169</td>\n",
       "      <td>4</td>\n",
       "      <td>74</td>\n",
       "      <td>51</td>\n",
       "      <td>35</td>\n",
       "      <td>11</td>\n",
       "      <td>4408</td>\n",
       "      <td>1133</td>\n",
       "      <td>19</td>\n",
       "      <td>501</td>\n",
       "      <td>336</td>\n",
       "      <td>194</td>\n",
       "      <td>282</td>\n",
       "      <td>421</td>\n",
       "      <td>25</td>\n",
       "      <td>750.0</td>\n",
       "      <td>0</td>\n",
       "      <td>1</td>\n",
       "      <td>0</td>\n",
       "    </tr>\n",
       "  </tbody>\n",
       "</table>\n",
       "</div>"
      ],
      "text/plain": [
       "                   AtBat  Hits  HmRun  Runs  RBI  Walks  Years  CAtBat  CHits  \\\n",
       "-Alan Ashby          315    81      7    24   38     39     14    3449    835   \n",
       "-Alvin Davis         479   130     18    66   72     76      3    1624    457   \n",
       "-Andre Dawson        496   141     20    65   78     37     11    5628   1575   \n",
       "-Andres Galarraga    321    87     10    39   42     30      2     396    101   \n",
       "-Alfredo Griffin     594   169      4    74   51     35     11    4408   1133   \n",
       "\n",
       "                   CHmRun  CRuns  CRBI  CWalks  PutOuts  Assists  Errors  \\\n",
       "-Alan Ashby            69    321   414     375      632       43      10   \n",
       "-Alvin Davis           63    224   266     263      880       82      14   \n",
       "-Andre Dawson         225    828   838     354      200       11       3   \n",
       "-Andres Galarraga      12     48    46      33      805       40       4   \n",
       "-Alfredo Griffin       19    501   336     194      282      421      25   \n",
       "\n",
       "                   Salary  League_N  Division_W  NewLeague_N  \n",
       "-Alan Ashby         475.0         1           1            1  \n",
       "-Alvin Davis        480.0         0           1            0  \n",
       "-Andre Dawson       500.0         1           0            1  \n",
       "-Andres Galarraga    91.5         1           0            1  \n",
       "-Alfredo Griffin    750.0         0           1            0  "
      ]
     },
     "execution_count": 77,
     "metadata": {},
     "output_type": "execute_result"
    }
   ],
   "source": [
    "# In Lab 1 we explored the hitters dataframe locating rows with missing data and identifying\n",
    "# categorical variables. See that lab for details...\n",
    "hitters = pd.read_csv('../../data/Hitters.csv', index_col=0).dropna()\n",
    "\n",
    "# Create a set of dummy variables for the categoricals\n",
    "dummies = pd.get_dummies(hitters[['League', 'Division', 'NewLeague']])\n",
    "\n",
    "# Generate new dataframe with new dummy variables\n",
    "hitters = hitters.drop(['League', 'Division', 'NewLeague'], axis=1)\n",
    "\n",
    "# add new dummy variables to hitters\n",
    "hitters = pd.concat([hitters, dummies[['League_N', 'Division_W', 'NewLeague_N']]],axis=1)\n",
    "\n",
    "hitters.head()"
   ]
  },
  {
   "cell_type": "markdown",
   "metadata": {},
   "source": [
    "## 6.6.1 Ridge Regression"
   ]
  },
  {
   "cell_type": "markdown",
   "metadata": {},
   "source": [
    "In Ridge Regression, we seek to minimize an objective function of the form:"
   ]
  },
  {
   "cell_type": "markdown",
   "metadata": {},
   "source": [
    "$\\sum_{i=1}^{N}{\\left(y_i-\\beta_0-\\sum_{j=1}^{p}{\\beta_jx_{i,j}}\\right)}^2-\\lambda\\|\\beta_j\\|_2^2$. "
   ]
  },
  {
   "cell_type": "markdown",
   "metadata": {},
   "source": [
    "** R's GLMNET with $\\bf{\\alpha=0}$ minimizes the following:** (see https://web.stanford.edu/~hastie/glmnet/glmnet_alpha.html and https://core.ac.uk/download/files/153/6287975.pdf)"
   ]
  },
  {
   "cell_type": "markdown",
   "metadata": {},
   "source": [
    "$\\min \\left(\\frac{1}{2N}\\sum_{i=1}^{N}{\\left(y_i-\\beta_0-\\sum_{j=1}^{p}{\\beta_jx_{i,j}}\\right)}^2-\\frac{\\lambda}{2}\\|\\beta_j\\|_2^2\\right)$"
   ]
  },
  {
   "cell_type": "markdown",
   "metadata": {},
   "source": [
    "** SKLEARN.RIDGE minimizes:** (see http://scikit-learn.org/stable/modules/linear_model.html#ridge-regression)"
   ]
  },
  {
   "cell_type": "markdown",
   "metadata": {},
   "source": [
    "$\\min \\left(\\sum_{i=1}^{N}{\\left(y_i-\\beta_0-\\sum_{j=1}^{p}{\\beta_jx_{i,j}}\\right)}^2-\\alpha\\|\\beta_j\\|_2^2\\right)$"
   ]
  },
  {
   "cell_type": "markdown",
   "metadata": {},
   "source": [
    "From the above we can see that **glmnet uses the mean-squared error** and **sklearn minimizes the total squared error** To compare the two algorithms we would need to convert both lamdas and alphas to degrees of freedom (see Elements of Statistical Learning page 68). This involves computing the Singular Value Decomposition of the design matrix for hitters. The diagonal of this matrix has eigenvalues that determine the amount of shrikage for each predictor coeffecient. ** Upto this eigenvalue, sklearn's alpha is proportional to lambda/2N ** You can see this in the above equations by factoring out N. That is what we will do here. This will get us pretty close to glmnets coeffecients."
   ]
  },
  {
   "cell_type": "code",
   "execution_count": 89,
   "metadata": {
    "collapsed": false
   },
   "outputs": [
    {
     "name": "stdout",
     "output_type": "stream",
     "text": [
      "sklearn alpha = 21.8584980114  ~ glmnet lambda =  11497.569954 \n",
      "\n",
      "Intercept      390.991665\n",
      "AtBat            0.041620\n",
      "Hits             0.156398\n",
      "HmRun            0.588092\n",
      "Runs             0.260571\n",
      "RBI              0.270224\n",
      "Walks            0.327661\n",
      "Years            1.240185\n",
      "CAtBat           0.003522\n",
      "CHits            0.013129\n",
      "CHmRun           0.098564\n",
      "CRuns            0.026339\n",
      "CRBI             0.027196\n",
      "CWalks           0.028085\n",
      "PutOuts          0.018872\n",
      "Assists          0.002974\n",
      "Errors          -0.025042\n",
      "League_N         0.179995\n",
      "Division_W      -7.167844\n",
      "NewLeague_N      0.404765\n",
      "dtype: float64 \n",
      "\n",
      "l2 norm of Betas= 7.33114679536\n"
     ]
    }
   ],
   "source": [
    "# Get the predictors and response from hitters\n",
    "X = hitters.drop('Salary', axis = 1)\n",
    "y = hitters.Salary\n",
    "\n",
    "# list to hold our regression models\n",
    "regr = []\n",
    "\n",
    "\n",
    "alphas = 10**np.linspace(10,-2, 100)\n",
    "\n",
    "# build models\n",
    "for index, alph in enumerate(alphas):\n",
    "    model = Ridge(alpha=alph/(2*len(hitters)), normalize=True, solver='cholesky')\n",
    "    regr = np.append(regr, model.fit(X,y))\n",
    "\n",
    "# show the alpha in sklearn and the corresponding lambda in glmnet\n",
    "print('sklearn alpha =', regr[49].alpha, ' ~ glmnet lambda = ', regr[49].alpha*2*len(hitters),'\\n')  \n",
    "\n",
    "# make a datframe of the results\n",
    "df = pd.Series(data = np.hstack([regr[49].intercept_, regr[49].coef_]), index=['Intercept'] + X.columns.tolist())\n",
    "\n",
    "print(df,'\\n')\n",
    "\n",
    "print('l2 norm of Betas=', np.sqrt(sum(df.apply(lambda x: x**2).iloc[1:])))"
   ]
  },
  {
   "cell_type": "code",
   "execution_count": 139,
   "metadata": {
    "collapsed": false
   },
   "outputs": [
    {
     "name": "stdout",
     "output_type": "stream",
     "text": [
      "sklearn alpha = 1.34121716934  ~ glmnet lambda =  705.480231072 \n",
      "\n",
      "Intercept      43.153507\n",
      "AtBat           0.108824\n",
      "Hits            0.692671\n",
      "HmRun           1.096491\n",
      "Runs            0.967662\n",
      "RBI             0.860228\n",
      "Walks           1.381808\n",
      "Years           2.440718\n",
      "CAtBat          0.011040\n",
      "CHits           0.048801\n",
      "CHmRun          0.351160\n",
      "CRuns           0.097495\n",
      "CRBI            0.102084\n",
      "CWalks          0.070088\n",
      "PutOuts         0.127957\n",
      "Assists         0.017939\n",
      "Errors         -0.815896\n",
      "League_N       15.294486\n",
      "Division_W    -59.507619\n",
      "NewLeague_N     9.047403\n",
      "dtype: float64 \n",
      "\n",
      "l2 norm of Betas= 62.2013128001\n"
     ]
    }
   ],
   "source": [
    "# Now again for glmnet lambda 705\n",
    "# show the alpha in sklearn and the corresponding lambda in glmnet\n",
    "print('sklearn alpha =', regr[59].alpha, ' ~ glmnet lambda = ', regr[59].alpha*2*len(hitters),'\\n')  \n",
    "\n",
    "# make a datframe of the results\n",
    "df = pd.Series(data = np.hstack([regr[59].intercept_, regr[59].coef_]), index=['Intercept'] + X.columns.tolist())\n",
    "\n",
    "print(df,'\\n')\n",
    "\n",
    "print('l2 norm of Betas=', np.sqrt(sum(df.apply(lambda x: x**2).iloc[1:])))"
   ]
  },
  {
   "cell_type": "markdown",
   "metadata": {
    "collapsed": true
   },
   "source": [
    "Notice the larger l2 norm when lambda is smaller (i.e. the coeffecient shrinkage is less)."
   ]
  },
  {
   "cell_type": "markdown",
   "metadata": {},
   "source": [
    "## Plot Regression Coeffecients vs Ridge Penalty"
   ]
  },
  {
   "cell_type": "code",
   "execution_count": 157,
   "metadata": {
    "collapsed": false
   },
   "outputs": [
    {
     "data": {
      "image/png": "[encoded data removed]",
      "text/plain": [
       "<matplotlib.figure.Figure at 0x7f1c250af208>"
      ]
     },
     "metadata": {},
     "output_type": "display_data"
    }
   ],
   "source": [
    "# We can make a plot of each of the ridge regression coeffecients as a function of the shrinkage factor alpha\n",
    "ridge_coefs = np.empty((len(alphas),X.shape[1]))\n",
    "\n",
    "# get standardized coeffs for each model\n",
    "for index, model in enumerate(regr):\n",
    "    ridge_coefs[index] = model.coef_[np.newaxis]\n",
    "# Construct plot    \n",
    "fig, ax = plt.subplots(figsize=(12,5))\n",
    "ax.plot(alphas,ridge_coefs, linewidth =2.0);\n",
    "ax.set_xscale('log')\n",
    "ax.set_xlabel('alpha (log-scale)', fontsize=14)\n",
    "ax.set_ylabel('Ridge Coeffecients', fontsize=14)\n",
    "ax.legend(X.columns.tolist(),loc='upper center', bbox_to_anchor=(0.5, 1.4), ncol=6);"
   ]
  },
  {
   "cell_type": "markdown",
   "metadata": {},
   "source": [
    "## Use Validation And Cross Validation to Estimate Test MSE"
   ]
  },
  {
   "cell_type": "code",
   "execution_count": 92,
   "metadata": {
    "collapsed": false
   },
   "outputs": [
    {
     "name": "stdout",
     "output_type": "stream",
     "text": [
      "MSE = 151947.097689\n",
      "MSE Of Intercept Only Model =  246681.899436\n",
      "Large Alpha MSE = 246681.899299\n",
      "Least Squares MSE = 156763.438385\n"
     ]
    }
   ],
   "source": [
    "# MSE- Validation Approach #\n",
    "############################\n",
    "np.random.seed(0)\n",
    "# Split the data into a train and validation set of roughly equal size\n",
    "train = np.random.choice([True, False], size=len(hitters))\n",
    "\n",
    "X_train = X[train]\n",
    "y_train = y[train]\n",
    "y_test = y[~train]\n",
    "X_test = X[~train]\n",
    "\n",
    "# For alpha = 4/(2*len(train) (glmnet_lambda of 4)/2N train the model\n",
    "model = Ridge(alpha=4/(2*len(X_train)), normalize=True).fit(X_train,y_train)\n",
    "\n",
    "# Now use the model to predict on the test set\n",
    "y_predicted = model.predict(X_test)\n",
    "\n",
    "MSE_validation = np.mean((y_test-y_predicted)**2)\n",
    "print('MSE =', MSE_validation)\n",
    "\n",
    "# Intercept ONLY Model #\n",
    "########################\n",
    "# if we had used the avearge training error (the intercept only model) we get the following MSE\n",
    "print('MSE Of Intercept Only Model = ', np.mean((np.mean(y[train])-y_test)**2))\n",
    "\n",
    "# If we use a really large value for alpha then all the coeffecients are ~zero and it is like \n",
    "# fitting an intercept only model\n",
    "model = Ridge(alpha=1e10, normalize=True).fit(X_train,y_train)\n",
    "\n",
    "# Now use the model to predict on the test set\n",
    "y_predicted = model.predict(X_test)\n",
    "\n",
    "MSE_validation = np.mean((y_test-y_predicted)**2)\n",
    "print('Large Alpha MSE =', MSE_validation)\n",
    "\n",
    "# Least Squares Model #\n",
    "#######################\n",
    "# with alpha =0 we recover least squares model\n",
    "model = Ridge(alpha=0, normalize=True).fit(X_train,y_train)\n",
    "\n",
    "# Now use the model to predict on the test set\n",
    "y_predicted = model.predict(X_test)\n",
    "\n",
    "MSE_validation = np.mean((y_test-y_predicted)**2)\n",
    "print('Least Squares MSE =', MSE_validation)"
   ]
  },
  {
   "cell_type": "markdown",
   "metadata": {},
   "source": [
    "So we see that fitting a model with small alpha = 4/(2*len(X)) leads to a much lower Test MSE than an intercept only model and a lower Test MSE than the Least Squares Model."
   ]
  },
  {
   "cell_type": "code",
   "execution_count": 190,
   "metadata": {
    "collapsed": false,
    "scrolled": false
   },
   "outputs": [
    {
     "name": "stdout",
     "output_type": "stream",
     "text": [
      "Min Alpha, Min CV =  6.13590727341 114073.637506\n"
     ]
    },
    {
     "data": {
      "image/png": "[encoded data removed]",
      "text/plain": [
       "<matplotlib.figure.Figure at 0x7f1c24a81160>"
      ]
     },
     "metadata": {},
     "output_type": "display_data"
    }
   ],
   "source": [
    "# Cross Validation Approach to Determine Best Alpha #\n",
    "#####################################################\n",
    "# scikit learns RidgeCV does not return cross-validation MSEs except for LOOCV case so we will custom write\n",
    "# the cross validation procedure...\n",
    "\n",
    "alphas = 10**np.linspace(10,-2, 100)\n",
    "\n",
    "# construct training and test folds\n",
    "kf = KFold(len(X), n_folds=10)\n",
    "\n",
    "cvs = []\n",
    "\n",
    "for alpha in alphas:\n",
    "    # For each shrinkage factor compute the models MSE for the 10-folds\n",
    "    error = []\n",
    "    \n",
    "    for train, test in kf:\n",
    "        # get test/train splits\n",
    "        X_train = X.values[train]\n",
    "        y_train = y.values[train]\n",
    "        X_test = X.values[test]\n",
    "        y_test = y.values[test]\n",
    "        \n",
    "        # build model for each split\n",
    "        model = Ridge(alpha=alpha/(2*len(X)), normalize=True).fit(X_train,y_train)\n",
    "        # compute error for this each response at this alpha for this fold\n",
    "        error = np.append(error,(model.predict(X_test)-y_test))\n",
    "        \n",
    "    # compute mean squared error for this alpha\n",
    "    cvs = np.append(cvs,np.mean(error**2))\n",
    "\n",
    "# get the minimum alpha\n",
    "min_index, min_cvs = min(enumerate(cvs), key=itemgetter(1)) \n",
    "print('Min Alpha, Min CV = ', alphas[min_index], min_cvs)\n",
    "\n",
    "# Plot the CV Errors as a funtion of alpha and plot minimum\n",
    "fig,ax = plt.subplots(figsize=(8,6))\n",
    "\n",
    "ax.plot(alphas, cvs, color='b')\n",
    "ax.plot(alphas[min_index], min_cvs, marker='x', color='r', markersize=15)\n",
    "\n",
    "ax.set_xscale('log')\n",
    "ax.set_ylabel('10-Fold CV Error', fontsize=14);\n",
    "ax.set_xlabel('alpha (log-scale)', fontsize=14);"
   ]
  },
  {
   "cell_type": "code",
   "execution_count": 198,
   "metadata": {
    "collapsed": false
   },
   "outputs": [
    {
     "data": {
      "text/plain": [
       "Intercept      217.881101\n",
       "AtBat            0.088870\n",
       "Hits             0.364778\n",
       "HmRun            1.167732\n",
       "Runs             0.586860\n",
       "RBI              0.586005\n",
       "Walks            0.759392\n",
       "Years            2.447317\n",
       "CAtBat           0.007493\n",
       "CHits            0.028829\n",
       "CHmRun           0.214139\n",
       "CRuns            0.057814\n",
       "CRBI             0.059791\n",
       "CWalks           0.057967\n",
       "PutOuts          0.051472\n",
       "Assists          0.007324\n",
       "Errors          -0.138893\n",
       "League_N         3.122670\n",
       "Division_W     -21.333971\n",
       "NewLeague_N      2.858630\n",
       "dtype: float64"
      ]
     },
     "execution_count": 198,
     "metadata": {},
     "output_type": "execute_result"
    }
   ],
   "source": [
    "# Lastly, we can fit the full dataset with this value of alpha\n",
    "regr = Ridge(alpha=alphas[min_index], normalize=True).fit(X,y)\n",
    "df = pd.Series(data = np.hstack([regr.intercept_, regr.coef_]), index=['Intercept'] + X.columns.tolist())\n",
    "df"
   ]
  },
  {
   "cell_type": "markdown",
   "metadata": {},
   "source": [
    "While the values here do not match the coeffecients from the text, the method is clear. We find the minimum in the CV curve across alphas and fit the full model with the best alpha. Fitting the shrinkage factor lambda exactly to glmnets results aren't really worth too much effort becasue the the exact values of the penalty are not useful, all we need to determine is the alpha/lambda that results in the lowest test MSE. When this is done, the best model in terms of bias/varaince trade-off has been located."
   ]
  },
  {
   "cell_type": "markdown",
   "metadata": {},
   "source": [
    "## 6.6.2 The Lasso"
   ]
  },
  {
   "cell_type": "code",
   "execution_count": null,
   "metadata": {
    "collapsed": true
   },
   "outputs": [],
   "source": []
  }
 ],
 "metadata": {
  "kernelspec": {
   "display_name": "Python 3",
   "language": "python",
   "name": "python3"
  },
  "language_info": {
   "codemirror_mode": {
    "name": "ipython",
    "version": 3
   },
   "file_extension": ".py",
   "mimetype": "text/x-python",
   "name": "python",
   "nbconvert_exporter": "python",
   "pygments_lexer": "ipython3",
   "version": "3.5.2"
  }
 },
 "nbformat": 4,
 "nbformat_minor": 0
}
