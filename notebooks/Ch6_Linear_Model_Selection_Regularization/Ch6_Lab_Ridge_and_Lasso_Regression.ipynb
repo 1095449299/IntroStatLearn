{
 "cells": [
  {
   "cell_type": "markdown",
   "metadata": {},
   "source": [
    "# ISLR- Python Ch6 -- Lab 2: Ridge Regression and the Lasso"
   ]
  },
  {
   "cell_type": "markdown",
   "metadata": {},
   "source": [
    "- [Load Hitters Dataset](#Load-Hitters-Dataset)\n",
    "- [6.6.1 Ridge Regression](#6.6.1-Ridge-Regression)\n",
    "    - [Plot Regression Coeffecients vs Ridge Penalty](#Plot-Regression-Coeffecients-vs-Ridge-Penalty)\n",
    "    - [Use Validation And Cross Validation to Estimate Test MSE](#Use-Validation-And-Cross-Validation-to-Estimate-Test-MSE )\n",
    "- [6.6.2 The Lasso](#6.6.2-The-Lasso)"
   ]
  },
  {
   "cell_type": "code",
   "execution_count": 132,
   "metadata": {
    "collapsed": false
   },
   "outputs": [],
   "source": [
    "# perform standard imports\n",
    "import numpy as np\n",
    "import pandas as pd\n",
    "\n",
    "from sklearn.linear_model import Ridge, RidgeCV\n",
    "from sklearn.preprocessing import scale\n",
    "from matplotlib import pyplot as plt\n",
    "\n",
    "%matplotlib inline\n",
    "plt.style.use('ggplot') # emulate R's pretty plotting\n",
    "\n",
    "# print numpy arrays with precision 4\n",
    "np.set_printoptions(precision=4)"
   ]
  },
  {
   "cell_type": "markdown",
   "metadata": {},
   "source": [
    "## Load Hitters Dataset"
   ]
  },
  {
   "cell_type": "code",
   "execution_count": 28,
   "metadata": {
    "collapsed": false
   },
   "outputs": [
    {
     "data": {
      "text/html": [
       "<div>\n",
       "<table border=\"1\" class=\"dataframe\">\n",
       "  <thead>\n",
       "    <tr style=\"text-align: right;\">\n",
       "      <th></th>\n",
       "      <th>AtBat</th>\n",
       "      <th>Hits</th>\n",
       "      <th>HmRun</th>\n",
       "      <th>Runs</th>\n",
       "      <th>RBI</th>\n",
       "      <th>Walks</th>\n",
       "      <th>Years</th>\n",
       "      <th>CAtBat</th>\n",
       "      <th>CHits</th>\n",
       "      <th>CHmRun</th>\n",
       "      <th>CRuns</th>\n",
       "      <th>CRBI</th>\n",
       "      <th>CWalks</th>\n",
       "      <th>PutOuts</th>\n",
       "      <th>Assists</th>\n",
       "      <th>Errors</th>\n",
       "      <th>Salary</th>\n",
       "      <th>League_N</th>\n",
       "      <th>Division_W</th>\n",
       "      <th>NewLeague_N</th>\n",
       "    </tr>\n",
       "  </thead>\n",
       "  <tbody>\n",
       "    <tr>\n",
       "      <th>-Alan Ashby</th>\n",
       "      <td>315</td>\n",
       "      <td>81</td>\n",
       "      <td>7</td>\n",
       "      <td>24</td>\n",
       "      <td>38</td>\n",
       "      <td>39</td>\n",
       "      <td>14</td>\n",
       "      <td>3449</td>\n",
       "      <td>835</td>\n",
       "      <td>69</td>\n",
       "      <td>321</td>\n",
       "      <td>414</td>\n",
       "      <td>375</td>\n",
       "      <td>632</td>\n",
       "      <td>43</td>\n",
       "      <td>10</td>\n",
       "      <td>475.0</td>\n",
       "      <td>1</td>\n",
       "      <td>1</td>\n",
       "      <td>1</td>\n",
       "    </tr>\n",
       "    <tr>\n",
       "      <th>-Alvin Davis</th>\n",
       "      <td>479</td>\n",
       "      <td>130</td>\n",
       "      <td>18</td>\n",
       "      <td>66</td>\n",
       "      <td>72</td>\n",
       "      <td>76</td>\n",
       "      <td>3</td>\n",
       "      <td>1624</td>\n",
       "      <td>457</td>\n",
       "      <td>63</td>\n",
       "      <td>224</td>\n",
       "      <td>266</td>\n",
       "      <td>263</td>\n",
       "      <td>880</td>\n",
       "      <td>82</td>\n",
       "      <td>14</td>\n",
       "      <td>480.0</td>\n",
       "      <td>0</td>\n",
       "      <td>1</td>\n",
       "      <td>0</td>\n",
       "    </tr>\n",
       "    <tr>\n",
       "      <th>-Andre Dawson</th>\n",
       "      <td>496</td>\n",
       "      <td>141</td>\n",
       "      <td>20</td>\n",
       "      <td>65</td>\n",
       "      <td>78</td>\n",
       "      <td>37</td>\n",
       "      <td>11</td>\n",
       "      <td>5628</td>\n",
       "      <td>1575</td>\n",
       "      <td>225</td>\n",
       "      <td>828</td>\n",
       "      <td>838</td>\n",
       "      <td>354</td>\n",
       "      <td>200</td>\n",
       "      <td>11</td>\n",
       "      <td>3</td>\n",
       "      <td>500.0</td>\n",
       "      <td>1</td>\n",
       "      <td>0</td>\n",
       "      <td>1</td>\n",
       "    </tr>\n",
       "    <tr>\n",
       "      <th>-Andres Galarraga</th>\n",
       "      <td>321</td>\n",
       "      <td>87</td>\n",
       "      <td>10</td>\n",
       "      <td>39</td>\n",
       "      <td>42</td>\n",
       "      <td>30</td>\n",
       "      <td>2</td>\n",
       "      <td>396</td>\n",
       "      <td>101</td>\n",
       "      <td>12</td>\n",
       "      <td>48</td>\n",
       "      <td>46</td>\n",
       "      <td>33</td>\n",
       "      <td>805</td>\n",
       "      <td>40</td>\n",
       "      <td>4</td>\n",
       "      <td>91.5</td>\n",
       "      <td>1</td>\n",
       "      <td>0</td>\n",
       "      <td>1</td>\n",
       "    </tr>\n",
       "    <tr>\n",
       "      <th>-Alfredo Griffin</th>\n",
       "      <td>594</td>\n",
       "      <td>169</td>\n",
       "      <td>4</td>\n",
       "      <td>74</td>\n",
       "      <td>51</td>\n",
       "      <td>35</td>\n",
       "      <td>11</td>\n",
       "      <td>4408</td>\n",
       "      <td>1133</td>\n",
       "      <td>19</td>\n",
       "      <td>501</td>\n",
       "      <td>336</td>\n",
       "      <td>194</td>\n",
       "      <td>282</td>\n",
       "      <td>421</td>\n",
       "      <td>25</td>\n",
       "      <td>750.0</td>\n",
       "      <td>0</td>\n",
       "      <td>1</td>\n",
       "      <td>0</td>\n",
       "    </tr>\n",
       "  </tbody>\n",
       "</table>\n",
       "</div>"
      ],
      "text/plain": [
       "                   AtBat  Hits  HmRun  Runs  RBI  Walks  Years  CAtBat  CHits  \\\n",
       "-Alan Ashby          315    81      7    24   38     39     14    3449    835   \n",
       "-Alvin Davis         479   130     18    66   72     76      3    1624    457   \n",
       "-Andre Dawson        496   141     20    65   78     37     11    5628   1575   \n",
       "-Andres Galarraga    321    87     10    39   42     30      2     396    101   \n",
       "-Alfredo Griffin     594   169      4    74   51     35     11    4408   1133   \n",
       "\n",
       "                   CHmRun  CRuns  CRBI  CWalks  PutOuts  Assists  Errors  \\\n",
       "-Alan Ashby            69    321   414     375      632       43      10   \n",
       "-Alvin Davis           63    224   266     263      880       82      14   \n",
       "-Andre Dawson         225    828   838     354      200       11       3   \n",
       "-Andres Galarraga      12     48    46      33      805       40       4   \n",
       "-Alfredo Griffin       19    501   336     194      282      421      25   \n",
       "\n",
       "                   Salary  League_N  Division_W  NewLeague_N  \n",
       "-Alan Ashby         475.0         1           1            1  \n",
       "-Alvin Davis        480.0         0           1            0  \n",
       "-Andre Dawson       500.0         1           0            1  \n",
       "-Andres Galarraga    91.5         1           0            1  \n",
       "-Alfredo Griffin    750.0         0           1            0  "
      ]
     },
     "execution_count": 28,
     "metadata": {},
     "output_type": "execute_result"
    }
   ],
   "source": [
    "# In Lab 1 we explored the hitters dataframe locating rows with missing data and identifying\n",
    "# categorical variables. See that lab for details...\n",
    "hitters = pd.read_csv('../../data/Hitters.csv', index_col=0).dropna()\n",
    "\n",
    "# Create a set of dummy variables for the categoricals\n",
    "dummies = pd.get_dummies(hitters[['League', 'Division', 'NewLeague']])\n",
    "\n",
    "# Generate new dataframe with new dummy variables\n",
    "hitters = hitters.drop(['League', 'Division', 'NewLeague'], axis=1)\n",
    "\n",
    "# add new dummy variables to hitters\n",
    "hitters = pd.concat([hitters, dummies[['League_N', 'Division_W', 'NewLeague_N']]],axis=1)\n",
    "\n",
    "hitters.head()"
   ]
  },
  {
   "cell_type": "markdown",
   "metadata": {},
   "source": [
    "## 6.6.1 Ridge Regression"
   ]
  },
  {
   "cell_type": "markdown",
   "metadata": {},
   "source": [
    "In Ridge Regression, we seek to minimize an objective function of the form:"
   ]
  },
  {
   "cell_type": "markdown",
   "metadata": {},
   "source": [
    "$\\sum_{i=1}^{N}{\\left(y_i-\\beta_0-\\sum_{j=1}^{p}{\\beta_jx_{i,j}}\\right)}^2-\\lambda\\|\\beta_j\\|_2^2$. "
   ]
  },
  {
   "cell_type": "markdown",
   "metadata": {},
   "source": [
    "** R's GLMNET with $\\bf{\\alpha=0}$ minimizes the following:** (see https://web.stanford.edu/~hastie/glmnet/glmnet_alpha.html and https://core.ac.uk/download/files/153/6287975.pdf)"
   ]
  },
  {
   "cell_type": "markdown",
   "metadata": {},
   "source": [
    "$\\min \\left(\\frac{1}{2N}\\sum_{i=1}^{N}{\\left(y_i-\\beta_0-\\sum_{j=1}^{p}{\\beta_jx_{i,j}}\\right)}^2-\\frac{\\lambda}{2}\\|\\beta_j\\|_2^2\\right)$"
   ]
  },
  {
   "cell_type": "markdown",
   "metadata": {},
   "source": [
    "** SKLEARN.RIDGE minimizes:** (see http://scikit-learn.org/stable/modules/linear_model.html#ridge-regression)"
   ]
  },
  {
   "cell_type": "markdown",
   "metadata": {},
   "source": [
    "$\\min \\left(\\sum_{i=1}^{N}{\\left(y_i-\\beta_0-\\sum_{j=1}^{p}{\\beta_jx_{i,j}}\\right)}^2-\\alpha\\|\\beta_j\\|_2^2\\right)$"
   ]
  },
  {
   "cell_type": "markdown",
   "metadata": {},
   "source": [
    "From the above we can see that **glmnet uses the mean-squared error** and **sklearn minimizes the total squared error** To compare the two algorithms we would need to convert both lamdas and alphas to degrees of freedom (see Elements of Statistical Learning page 68). This involves computing the Singular Value Decomposition of the design matrix for hitters. The diagonal of this matrix has eigenvalues that determine the amount of shrikage for each predictor coeffecient. ** Upto this eigenvalue, sklearn's alpha is proportional to lambda/2N ** You can see this in the above equations by factoring out N. That is what we will do here. This will get us pretty close to glmnets coeffecients."
   ]
  },
  {
   "cell_type": "code",
   "execution_count": 136,
   "metadata": {
    "collapsed": false
   },
   "outputs": [
    {
     "name": "stdout",
     "output_type": "stream",
     "text": [
      "sklearn alpha = 21.8593155894  ~ glmnet lambda =  11498.0 \n",
      "\n",
      "Intercept      390.995767\n",
      "AtBat            0.041618\n",
      "Hits             0.156393\n",
      "HmRun            0.588076\n",
      "Runs             0.260564\n",
      "RBI              0.270216\n",
      "Walks            0.327651\n",
      "Years            1.240153\n",
      "CAtBat           0.003522\n",
      "CHits            0.013128\n",
      "CHmRun           0.098561\n",
      "CRuns            0.026338\n",
      "CRBI             0.027195\n",
      "CWalks           0.028085\n",
      "PutOuts          0.018871\n",
      "Assists          0.002974\n",
      "Errors          -0.025041\n",
      "League_N         0.179969\n",
      "Division_W      -7.167599\n",
      "NewLeague_N      0.404737\n",
      "dtype: float64 \n",
      "\n",
      "l2 norm of Betas= 7.33089758943\n"
     ]
    }
   ],
   "source": [
    "# Get the predictors and response from hitters\n",
    "X = hitters.drop('Salary', axis = 1)\n",
    "y = hitters.Salary\n",
    "\n",
    "# list to hold our regression models\n",
    "regr = []\n",
    "\n",
    "# Make an array of alphas. To be consistent with R's sequence function, we must round the array to \n",
    "# integers see ( https://stat.ethz.ch/R-manual/R-devel/library/base/html/seq.html )\n",
    "alphas = np.round(10**np.linspace(10,-2, 100))\n",
    "\n",
    "# build models\n",
    "for index, alph in enumerate(alphas):\n",
    "    model = Ridge(alpha=alph/(2*len(hitters)), normalize=True, solver='cholesky')\n",
    "    regr = np.append(regr, model.fit(X,y))\n",
    "\n",
    "# show the alpha in sklearn and the corresponding lambda in glmnet\n",
    "print('sklearn alpha =', regr[49].alpha, ' ~ glmnet lambda = ', regr[49].alpha*2*len(hitters),'\\n')  \n",
    "\n",
    "# make a datframe of the results\n",
    "df = pd.Series(data = np.hstack([regr[49].intercept_, regr[49].coef_]), index=['Intercept'] + X.columns.tolist())\n",
    "\n",
    "print(df,'\\n')\n",
    "\n",
    "print('l2 norm of Betas=', np.sqrt(sum(df.apply(lambda x: x**2).iloc[1:])))"
   ]
  },
  {
   "cell_type": "code",
   "execution_count": 116,
   "metadata": {
    "collapsed": false
   },
   "outputs": [
    {
     "name": "stdout",
     "output_type": "stream",
     "text": [
      "sklearn alpha = 1.34030418251  ~ glmnet lambda =  705.0 \n",
      "\n",
      "Intercept      43.108259\n",
      "AtBat           0.108806\n",
      "Hits            0.692836\n",
      "HmRun           1.096093\n",
      "Runs            0.967788\n",
      "RBI             0.860277\n",
      "Walks           1.382076\n",
      "Years           2.439954\n",
      "CAtBat          0.011041\n",
      "CHits           0.048810\n",
      "CHmRun          0.351217\n",
      "CRuns           0.097512\n",
      "CRBI            0.102103\n",
      "CWalks          0.070079\n",
      "PutOuts         0.127999\n",
      "Assists         0.017948\n",
      "Errors         -0.816414\n",
      "League_N       15.301663\n",
      "Division_W    -59.529078\n",
      "NewLeague_N     9.049022\n",
      "dtype: float64 \n",
      "\n",
      "l2 norm of Betas= 62.2238235149\n"
     ]
    }
   ],
   "source": [
    "# Now again for glmnet lambda 705\n",
    "# show the alpha in sklearn and the corresponding lambda in glmnet\n",
    "print('sklearn alpha =', regr[59].alpha, ' ~ glmnet lambda = ', regr[59].alpha*2*len(hitters),'\\n')  \n",
    "\n",
    "# make a datframe of the results\n",
    "df = pd.Series(data = np.hstack([regr[59].intercept_, regr[59].coef_]), index=['Intercept'] + X.columns.tolist())\n",
    "\n",
    "print(df,'\\n')\n",
    "\n",
    "print('l2 norm of Betas=', np.sqrt(sum(df.apply(lambda x: x**2).iloc[1:])))"
   ]
  },
  {
   "cell_type": "markdown",
   "metadata": {
    "collapsed": true
   },
   "source": [
    "Notice the larger l2 norm when lambda is smaller (i.e. the coeffecient shrinkage is less)."
   ]
  },
  {
   "cell_type": "markdown",
   "metadata": {},
   "source": [
    "## Plot Regression Coeffecients vs Ridge Penalty"
   ]
  },
  {
   "cell_type": "code",
   "execution_count": 161,
   "metadata": {
    "collapsed": false
   },
   "outputs": [
    {
     "data": {
      "image/png": "[encoded data removed]",
      "text/plain": [
       "<matplotlib.figure.Figure at 0x7f6f4f354c18>"
      ]
     },
     "metadata": {},
     "output_type": "display_data"
    }
   ],
   "source": [
    "# We can make a plot of each of the ridge regression coeffecients as a function of the shrinkage factor alpha\n",
    "ridge_coefs = np.empty((len(alphas),X.shape[1]))\n",
    "\n",
    "# get standardized coeffs for each model\n",
    "for index, model in enumerate(regr):\n",
    "    ridge_coefs[index] = model.coef_[np.newaxis]\n",
    "# Construct plot    \n",
    "fig, ax = plt.subplots(figsize=(12,5))\n",
    "ax.plot(alphas,ridge_coefs, linewidth =2.0);\n",
    "ax.set_xscale('log')\n",
    "ax.set_xlabel('alpha', fontsize=14)\n",
    "ax.set_ylabel('Ridge Coeffecients', fontsize=14)\n",
    "ax.legend(X.columns.tolist(),loc='upper center', bbox_to_anchor=(0.5, 1.4), ncol=6);"
   ]
  },
  {
   "cell_type": "markdown",
   "metadata": {},
   "source": [
    "## Use Validation And Cross Validation to Estimate Test MSE"
   ]
  },
  {
   "cell_type": "code",
   "execution_count": null,
   "metadata": {
    "collapsed": true
   },
   "outputs": [],
   "source": []
  }
 ],
 "metadata": {
  "kernelspec": {
   "display_name": "Python 3",
   "language": "python",
   "name": "python3"
  },
  "language_info": {
   "codemirror_mode": {
    "name": "ipython",
    "version": 3
   },
   "file_extension": ".py",
   "mimetype": "text/x-python",
   "name": "python",
   "nbconvert_exporter": "python",
   "pygments_lexer": "ipython3",
   "version": "3.5.2"
  }
 },
 "nbformat": 4,
 "nbformat_minor": 0
}
